{
  "cells": [
    {
      "cell_type": "markdown",
      "metadata": {
        "id": "view-in-github",
        "colab_type": "text"
      },
      "source": [
        "<a href=\"https://colab.research.google.com/github/JadhavVaibhav3335/AI-Program-/blob/main/linear_reg_with_error.ipynb\" target=\"_parent\"><img src=\"https://colab.research.google.com/assets/colab-badge.svg\" alt=\"Open In Colab\"/></a>"
      ]
    },
    {
      "cell_type": "code",
      "execution_count": null,
      "id": "fbfdf378",
      "metadata": {
        "id": "fbfdf378"
      },
      "outputs": [],
      "source": [
        "import pandas as pd\n",
        "import numpy as np\n",
        "import matplotlib.pyplot as plt\n",
        "from sklearn import linear_model"
      ]
    },
    {
      "cell_type": "code",
      "execution_count": null,
      "id": "966d07c4",
      "metadata": {
        "id": "966d07c4"
      },
      "outputs": [],
      "source": [
        "df =pd.read_csv(\"D:\\swati\\swati_G\\Swati_Jadhav_study_material\\ML\\dataset\\housearea.csv\")"
      ]
    },
    {
      "cell_type": "code",
      "execution_count": null,
      "id": "44e19e41",
      "metadata": {
        "id": "44e19e41",
        "outputId": "30f532a9-9d5d-4570-e4c0-43daad512d6b"
      },
      "outputs": [
        {
          "data": {
            "text/html": [
              "<div>\n",
              "<style scoped>\n",
              "    .dataframe tbody tr th:only-of-type {\n",
              "        vertical-align: middle;\n",
              "    }\n",
              "\n",
              "    .dataframe tbody tr th {\n",
              "        vertical-align: top;\n",
              "    }\n",
              "\n",
              "    .dataframe thead th {\n",
              "        text-align: right;\n",
              "    }\n",
              "</style>\n",
              "<table border=\"1\" class=\"dataframe\">\n",
              "  <thead>\n",
              "    <tr style=\"text-align: right;\">\n",
              "      <th></th>\n",
              "      <th>area</th>\n",
              "      <th>price</th>\n",
              "    </tr>\n",
              "  </thead>\n",
              "  <tbody>\n",
              "    <tr>\n",
              "      <th>0</th>\n",
              "      <td>2600</td>\n",
              "      <td>550000</td>\n",
              "    </tr>\n",
              "    <tr>\n",
              "      <th>1</th>\n",
              "      <td>3000</td>\n",
              "      <td>565000</td>\n",
              "    </tr>\n",
              "    <tr>\n",
              "      <th>2</th>\n",
              "      <td>3200</td>\n",
              "      <td>610000</td>\n",
              "    </tr>\n",
              "    <tr>\n",
              "      <th>3</th>\n",
              "      <td>3600</td>\n",
              "      <td>680000</td>\n",
              "    </tr>\n",
              "    <tr>\n",
              "      <th>4</th>\n",
              "      <td>4000</td>\n",
              "      <td>725000</td>\n",
              "    </tr>\n",
              "  </tbody>\n",
              "</table>\n",
              "</div>"
            ],
            "text/plain": [
              "   area   price\n",
              "0  2600  550000\n",
              "1  3000  565000\n",
              "2  3200  610000\n",
              "3  3600  680000\n",
              "4  4000  725000"
            ]
          },
          "execution_count": 7,
          "metadata": {},
          "output_type": "execute_result"
        }
      ],
      "source": [
        "df\n"
      ]
    },
    {
      "cell_type": "code",
      "execution_count": null,
      "id": "b4d90c77",
      "metadata": {
        "id": "b4d90c77",
        "outputId": "3e61e348-978c-4476-c276-d2b565318479"
      },
      "outputs": [
        {
          "data": {
            "text/plain": [
              "0    550000\n",
              "1    565000\n",
              "2    610000\n",
              "3    680000\n",
              "4    725000\n",
              "Name: price, dtype: int64"
            ]
          },
          "execution_count": 8,
          "metadata": {},
          "output_type": "execute_result"
        }
      ],
      "source": [
        "df.price"
      ]
    },
    {
      "cell_type": "code",
      "execution_count": null,
      "id": "441b2dda",
      "metadata": {
        "id": "441b2dda",
        "outputId": "b952e298-d91b-42a4-d9eb-a564190d1615"
      },
      "outputs": [
        {
          "data": {
            "text/plain": [
              "0    2600\n",
              "1    3000\n",
              "2    3200\n",
              "3    3600\n",
              "4    4000\n",
              "Name: area, dtype: int64"
            ]
          },
          "execution_count": 9,
          "metadata": {},
          "output_type": "execute_result"
        }
      ],
      "source": [
        "df.area"
      ]
    },
    {
      "cell_type": "code",
      "execution_count": null,
      "id": "03f49db1",
      "metadata": {
        "id": "03f49db1",
        "outputId": "d9d57d25-b6d7-493d-d35f-15ea89e79739"
      },
      "outputs": [
        {
          "data": {
            "text/plain": [
              "<matplotlib.collections.PathCollection at 0x2802d448610>"
            ]
          },
          "execution_count": 10,
          "metadata": {},
          "output_type": "execute_result"
        },
        {
          "data": {
            "image/png": "[encoded data removed]",
            "text/plain": [
              "<Figure size 432x288 with 1 Axes>"
            ]
          },
          "metadata": {
            "needs_background": "light"
          },
          "output_type": "display_data"
        }
      ],
      "source": [
        "plt.xlabel(\"area\")\n",
        "plt.ylabel(\"price\")\n",
        "plt.scatter(df.area,df.price, color='red')\n"
      ]
    },
    {
      "cell_type": "code",
      "execution_count": null,
      "id": "e62d8ea7",
      "metadata": {
        "id": "e62d8ea7",
        "outputId": "8cd405d2-22f9-440f-c3ae-c4548ef69c49"
      },
      "outputs": [
        {
          "data": {
            "text/plain": [
              "LinearRegression()"
            ]
          },
          "execution_count": 11,
          "metadata": {},
          "output_type": "execute_result"
        }
      ],
      "source": [
        "reg=linear_model.LinearRegression()\n",
        "reg.fit(df[['area']], df.price)"
      ]
    },
    {
      "cell_type": "code",
      "execution_count": null,
      "id": "99d0ef8f",
      "metadata": {
        "id": "99d0ef8f",
        "outputId": "82abb83d-6b8f-438f-f169-1d93478f2533"
      },
      "outputs": [
        {
          "data": {
            "text/plain": [
              "array([628715.75342466])"
            ]
          },
          "execution_count": 12,
          "metadata": {},
          "output_type": "execute_result"
        }
      ],
      "source": [
        "reg.predict([[3300]])"
      ]
    },
    {
      "cell_type": "code",
      "execution_count": null,
      "id": "6e6f3407",
      "metadata": {
        "id": "6e6f3407",
        "outputId": "ca5e6990-a9cf-40c7-fe1c-408b4afe8b6b"
      },
      "outputs": [
        {
          "data": {
            "text/plain": [
              "array([135.78767123])"
            ]
          },
          "execution_count": 13,
          "metadata": {},
          "output_type": "execute_result"
        }
      ],
      "source": [
        "reg.coef_"
      ]
    },
    {
      "cell_type": "code",
      "execution_count": null,
      "id": "a32d6358",
      "metadata": {
        "id": "a32d6358",
        "outputId": "badb3fed-9a60-40d8-d2aa-a3a4a33fc819"
      },
      "outputs": [
        {
          "data": {
            "text/plain": [
              "180616.43835616432"
            ]
          },
          "execution_count": 14,
          "metadata": {},
          "output_type": "execute_result"
        }
      ],
      "source": [
        "reg.intercept_"
      ]
    },
    {
      "cell_type": "code",
      "execution_count": null,
      "id": "ba385e95",
      "metadata": {
        "id": "ba385e95",
        "outputId": "5fab546d-de37-45f1-b809-1d4ddc798b9c"
      },
      "outputs": [
        {
          "data": {
            "text/plain": [
              "628715.7534151643"
            ]
          },
          "execution_count": 15,
          "metadata": {},
          "output_type": "execute_result"
        }
      ],
      "source": [
        "135.78767123*3300+180616.43835616432"
      ]
    },
    {
      "cell_type": "code",
      "execution_count": null,
      "id": "54e48202",
      "metadata": {
        "id": "54e48202",
        "outputId": "2f5f0e84-5368-400d-8862-88d5789e4fb0"
      },
      "outputs": [
        {
          "data": {
            "text/html": [
              "<div>\n",
              "<style scoped>\n",
              "    .dataframe tbody tr th:only-of-type {\n",
              "        vertical-align: middle;\n",
              "    }\n",
              "\n",
              "    .dataframe tbody tr th {\n",
              "        vertical-align: top;\n",
              "    }\n",
              "\n",
              "    .dataframe thead th {\n",
              "        text-align: right;\n",
              "    }\n",
              "</style>\n",
              "<table border=\"1\" class=\"dataframe\">\n",
              "  <thead>\n",
              "    <tr style=\"text-align: right;\">\n",
              "      <th></th>\n",
              "      <th>area</th>\n",
              "      <th>price</th>\n",
              "      <th>pprice</th>\n",
              "    </tr>\n",
              "  </thead>\n",
              "  <tbody>\n",
              "    <tr>\n",
              "      <th>0</th>\n",
              "      <td>2600</td>\n",
              "      <td>550000</td>\n",
              "      <td>533664.38</td>\n",
              "    </tr>\n",
              "    <tr>\n",
              "      <th>1</th>\n",
              "      <td>3000</td>\n",
              "      <td>565000</td>\n",
              "      <td>587979.45</td>\n",
              "    </tr>\n",
              "    <tr>\n",
              "      <th>2</th>\n",
              "      <td>3200</td>\n",
              "      <td>610000</td>\n",
              "      <td>615136.99</td>\n",
              "    </tr>\n",
              "    <tr>\n",
              "      <th>3</th>\n",
              "      <td>3600</td>\n",
              "      <td>680000</td>\n",
              "      <td>669452.05</td>\n",
              "    </tr>\n",
              "    <tr>\n",
              "      <th>4</th>\n",
              "      <td>4000</td>\n",
              "      <td>725000</td>\n",
              "      <td>723767.12</td>\n",
              "    </tr>\n",
              "  </tbody>\n",
              "</table>\n",
              "</div>"
            ],
            "text/plain": [
              "   area   price     pprice\n",
              "0  2600  550000  533664.38\n",
              "1  3000  565000  587979.45\n",
              "2  3200  610000  615136.99\n",
              "3  3600  680000  669452.05\n",
              "4  4000  725000  723767.12"
            ]
          },
          "execution_count": 27,
          "metadata": {},
          "output_type": "execute_result"
        }
      ],
      "source": [
        "pr=reg.predict(df[['area']])\n",
        "df['pprice']=pr\n",
        "df['pprice']=round(df['pprice'],2)\n",
        "df"
      ]
    },
    {
      "cell_type": "code",
      "execution_count": null,
      "id": "01c2cff6",
      "metadata": {
        "id": "01c2cff6",
        "outputId": "3d1e30f4-8b29-44dc-cb3b-7f98f47b931f"
      },
      "outputs": [
        {
          "name": "stdout",
          "output_type": "stream",
          "text": [
            "186815102.32877934\n"
          ]
        }
      ],
      "source": [
        "from sklearn.metrics import mean_squared_error\n",
        "mse=mean_squared_error(df['price'],df['pprice'])\n",
        "print(mse)\n"
      ]
    },
    {
      "cell_type": "code",
      "execution_count": null,
      "id": "c7e385dd",
      "metadata": {
        "id": "c7e385dd",
        "outputId": "058c8e1f-a1ed-4e3b-b398-6ac07aff853a"
      },
      "outputs": [
        {
          "name": "stdout",
          "output_type": "stream",
          "text": [
            "186815102.32877934\n"
          ]
        }
      ],
      "source": [
        "MSE = np.square(np.subtract(df['price'],df['pprice'])).mean()\n",
        "print(MSE)\n"
      ]
    },
    {
      "cell_type": "code",
      "execution_count": null,
      "id": "63471423",
      "metadata": {
        "id": "63471423",
        "outputId": "cfe310a7-ce7b-4021-d5be-8c2b3b187798"
      },
      "outputs": [
        {
          "data": {
            "text/html": [
              "<div>\n",
              "<style scoped>\n",
              "    .dataframe tbody tr th:only-of-type {\n",
              "        vertical-align: middle;\n",
              "    }\n",
              "\n",
              "    .dataframe tbody tr th {\n",
              "        vertical-align: top;\n",
              "    }\n",
              "\n",
              "    .dataframe thead th {\n",
              "        text-align: right;\n",
              "    }\n",
              "</style>\n",
              "<table border=\"1\" class=\"dataframe\">\n",
              "  <thead>\n",
              "    <tr style=\"text-align: right;\">\n",
              "      <th></th>\n",
              "      <th>area</th>\n",
              "    </tr>\n",
              "  </thead>\n",
              "  <tbody>\n",
              "    <tr>\n",
              "      <th>0</th>\n",
              "      <td>1000</td>\n",
              "    </tr>\n",
              "    <tr>\n",
              "      <th>1</th>\n",
              "      <td>1500</td>\n",
              "    </tr>\n",
              "    <tr>\n",
              "      <th>2</th>\n",
              "      <td>2300</td>\n",
              "    </tr>\n",
              "    <tr>\n",
              "      <th>3</th>\n",
              "      <td>3540</td>\n",
              "    </tr>\n",
              "    <tr>\n",
              "      <th>4</th>\n",
              "      <td>4120</td>\n",
              "    </tr>\n",
              "    <tr>\n",
              "      <th>5</th>\n",
              "      <td>4560</td>\n",
              "    </tr>\n",
              "    <tr>\n",
              "      <th>6</th>\n",
              "      <td>5490</td>\n",
              "    </tr>\n",
              "    <tr>\n",
              "      <th>7</th>\n",
              "      <td>3460</td>\n",
              "    </tr>\n",
              "    <tr>\n",
              "      <th>8</th>\n",
              "      <td>4750</td>\n",
              "    </tr>\n",
              "    <tr>\n",
              "      <th>9</th>\n",
              "      <td>2300</td>\n",
              "    </tr>\n",
              "    <tr>\n",
              "      <th>10</th>\n",
              "      <td>9000</td>\n",
              "    </tr>\n",
              "    <tr>\n",
              "      <th>11</th>\n",
              "      <td>8600</td>\n",
              "    </tr>\n",
              "    <tr>\n",
              "      <th>12</th>\n",
              "      <td>7100</td>\n",
              "    </tr>\n",
              "  </tbody>\n",
              "</table>\n",
              "</div>"
            ],
            "text/plain": [
              "    area\n",
              "0   1000\n",
              "1   1500\n",
              "2   2300\n",
              "3   3540\n",
              "4   4120\n",
              "5   4560\n",
              "6   5490\n",
              "7   3460\n",
              "8   4750\n",
              "9   2300\n",
              "10  9000\n",
              "11  8600\n",
              "12  7100"
            ]
          },
          "execution_count": 38,
          "metadata": {},
          "output_type": "execute_result"
        }
      ],
      "source": [
        "new_df=pd.read_csv(\"D:\\swati\\swati_G\\Swati_Jadhav_study_material\\ML\\dataset\\h.csv\")\n",
        "new_df"
      ]
    },
    {
      "cell_type": "code",
      "execution_count": null,
      "id": "1f93021c",
      "metadata": {
        "id": "1f93021c",
        "outputId": "fadb66ec-82f8-4279-8d44-8a213e4e6087"
      },
      "outputs": [
        {
          "data": {
            "text/plain": [
              "array([ 316404.10958904,  384297.94520548,  492928.08219178,\n",
              "        661304.79452055,  740061.64383562,  799808.21917808,\n",
              "        926090.75342466,  650441.78082192,  825607.87671233,\n",
              "        492928.08219178, 1402705.47945205, 1348390.4109589 ,\n",
              "       1144708.90410959])"
            ]
          },
          "execution_count": 39,
          "metadata": {},
          "output_type": "execute_result"
        }
      ],
      "source": [
        "reg.predict(new_df[['area']])"
      ]
    },
    {
      "cell_type": "code",
      "execution_count": null,
      "id": "239d995e",
      "metadata": {
        "id": "239d995e"
      },
      "outputs": [],
      "source": [
        "p=reg.predict(new_df[['area']])"
      ]
    },
    {
      "cell_type": "code",
      "execution_count": null,
      "id": "b94a2f3b",
      "metadata": {
        "id": "b94a2f3b",
        "outputId": "8740351e-2c60-478b-c99d-83efa7de5fac"
      },
      "outputs": [
        {
          "data": {
            "text/html": [
              "<div>\n",
              "<style scoped>\n",
              "    .dataframe tbody tr th:only-of-type {\n",
              "        vertical-align: middle;\n",
              "    }\n",
              "\n",
              "    .dataframe tbody tr th {\n",
              "        vertical-align: top;\n",
              "    }\n",
              "\n",
              "    .dataframe thead th {\n",
              "        text-align: right;\n",
              "    }\n",
              "</style>\n",
              "<table border=\"1\" class=\"dataframe\">\n",
              "  <thead>\n",
              "    <tr style=\"text-align: right;\">\n",
              "      <th></th>\n",
              "      <th>area</th>\n",
              "      <th>price</th>\n",
              "    </tr>\n",
              "  </thead>\n",
              "  <tbody>\n",
              "    <tr>\n",
              "      <th>0</th>\n",
              "      <td>1000</td>\n",
              "      <td>316404.11</td>\n",
              "    </tr>\n",
              "    <tr>\n",
              "      <th>1</th>\n",
              "      <td>1500</td>\n",
              "      <td>384297.95</td>\n",
              "    </tr>\n",
              "    <tr>\n",
              "      <th>2</th>\n",
              "      <td>2300</td>\n",
              "      <td>492928.08</td>\n",
              "    </tr>\n",
              "    <tr>\n",
              "      <th>3</th>\n",
              "      <td>3540</td>\n",
              "      <td>661304.79</td>\n",
              "    </tr>\n",
              "    <tr>\n",
              "      <th>4</th>\n",
              "      <td>4120</td>\n",
              "      <td>740061.64</td>\n",
              "    </tr>\n",
              "    <tr>\n",
              "      <th>5</th>\n",
              "      <td>4560</td>\n",
              "      <td>799808.22</td>\n",
              "    </tr>\n",
              "    <tr>\n",
              "      <th>6</th>\n",
              "      <td>5490</td>\n",
              "      <td>926090.75</td>\n",
              "    </tr>\n",
              "    <tr>\n",
              "      <th>7</th>\n",
              "      <td>3460</td>\n",
              "      <td>650441.78</td>\n",
              "    </tr>\n",
              "    <tr>\n",
              "      <th>8</th>\n",
              "      <td>4750</td>\n",
              "      <td>825607.88</td>\n",
              "    </tr>\n",
              "    <tr>\n",
              "      <th>9</th>\n",
              "      <td>2300</td>\n",
              "      <td>492928.08</td>\n",
              "    </tr>\n",
              "    <tr>\n",
              "      <th>10</th>\n",
              "      <td>9000</td>\n",
              "      <td>1402705.48</td>\n",
              "    </tr>\n",
              "    <tr>\n",
              "      <th>11</th>\n",
              "      <td>8600</td>\n",
              "      <td>1348390.41</td>\n",
              "    </tr>\n",
              "    <tr>\n",
              "      <th>12</th>\n",
              "      <td>7100</td>\n",
              "      <td>1144708.90</td>\n",
              "    </tr>\n",
              "  </tbody>\n",
              "</table>\n",
              "</div>"
            ],
            "text/plain": [
              "    area       price\n",
              "0   1000   316404.11\n",
              "1   1500   384297.95\n",
              "2   2300   492928.08\n",
              "3   3540   661304.79\n",
              "4   4120   740061.64\n",
              "5   4560   799808.22\n",
              "6   5490   926090.75\n",
              "7   3460   650441.78\n",
              "8   4750   825607.88\n",
              "9   2300   492928.08\n",
              "10  9000  1402705.48\n",
              "11  8600  1348390.41\n",
              "12  7100  1144708.90"
            ]
          },
          "execution_count": 41,
          "metadata": {},
          "output_type": "execute_result"
        }
      ],
      "source": [
        "new_df['price']=p\n",
        "new_df['price']=round(new_df['price'],2)\n",
        "new_df\n"
      ]
    },
    {
      "cell_type": "code",
      "execution_count": null,
      "id": "1ee994d1",
      "metadata": {
        "id": "1ee994d1"
      },
      "outputs": [],
      "source": [
        "new_df.to_csv(\"D:\\swati\\swati_G\\Swati_Jadhav_study_material\\ML\\dataset\\predict.csv\", index=False)"
      ]
    },
    {
      "cell_type": "code",
      "execution_count": null,
      "id": "1b25c709",
      "metadata": {
        "id": "1b25c709",
        "outputId": "1a4ad9d0-7b6d-4428-a16f-8b5607dce57f"
      },
      "outputs": [
        {
          "data": {
            "text/plain": [
              "[<matplotlib.lines.Line2D at 0x18d84476be0>]"
            ]
          },
          "execution_count": 65,
          "metadata": {},
          "output_type": "execute_result"
        },
        {
          "data": {
            "image/png": "[encoded data removed]",
            "text/plain": [
              "<Figure size 432x288 with 1 Axes>"
            ]
          },
          "metadata": {
            "needs_background": "light"
          },
          "output_type": "display_data"
        }
      ],
      "source": [
        "plt.xlabel(\"area\")\n",
        "plt.ylabel(\"price\")\n",
        "plt.scatter(df.area,df.price, color='red')\n",
        "plt.plot(df.area,reg.predict(df[['area']]),color='blue')"
      ]
    },
    {
      "cell_type": "code",
      "execution_count": null,
      "id": "82f04673",
      "metadata": {
        "id": "82f04673",
        "outputId": "dec7a4c8-335a-43fc-c386-bbe7be53f3d1"
      },
      "outputs": [
        {
          "name": "stdout",
          "output_type": "stream",
          "text": [
            "0.21606\n"
          ]
        }
      ],
      "source": [
        "from sklearn.metrics import mean_squared_error\n",
        "\n",
        "# Given values\n",
        "Y_true = [1,1,2,2,4]  # Y_true = Y (original values)\n",
        "\n",
        "# calculated values\n",
        "Y_pred = [0.6,1.29,1.99,2.69,3.4]  # Y_pred = Y'\n",
        "\n",
        "# Calculation of Mean Squared Error (MSE)\n",
        "mse=mean_squared_error(Y_true,Y_pred)\n",
        "print(mse)"
      ]
    },
    {
      "cell_type": "code",
      "execution_count": null,
      "id": "12a4260d",
      "metadata": {
        "id": "12a4260d"
      },
      "outputs": [],
      "source": [
        "import math"
      ]
    },
    {
      "cell_type": "code",
      "execution_count": null,
      "id": "d27264c3",
      "metadata": {
        "id": "d27264c3",
        "outputId": "efc51fa6-d051-49cb-f57e-c04b64d351ef"
      },
      "outputs": [
        {
          "name": "stdout",
          "output_type": "stream",
          "text": [
            "0.4648225467853297\n"
          ]
        }
      ],
      "source": [
        "rmse=math.sqrt(mse)\n",
        "print(rmse)\n"
      ]
    },
    {
      "cell_type": "code",
      "execution_count": null,
      "id": "be72fe3a",
      "metadata": {
        "id": "be72fe3a",
        "outputId": "b2dd9938-0092-44de-b5a7-83d8bc606a37"
      },
      "outputs": [
        {
          "name": "stdout",
          "output_type": "stream",
          "text": [
            "Mean Absolute error 0.398\n"
          ]
        }
      ],
      "source": [
        "n=5\n",
        "sum=0\n",
        "for i in range(n):\n",
        "    sum= sum+abs(Y_true[i]-Y_pred[i])\n",
        "\n",
        "error=sum/n\n",
        "print(\"Mean Absolute error \"+ str(error))\n",
        "\n",
        "\n"
      ]
    },
    {
      "cell_type": "code",
      "execution_count": null,
      "id": "bf402f81",
      "metadata": {
        "id": "bf402f81",
        "outputId": "17b23a43-69f4-4786-c249-f96abaefe35d"
      },
      "outputs": [
        {
          "data": {
            "text/html": [
              "<div>\n",
              "<style scoped>\n",
              "    .dataframe tbody tr th:only-of-type {\n",
              "        vertical-align: middle;\n",
              "    }\n",
              "\n",
              "    .dataframe tbody tr th {\n",
              "        vertical-align: top;\n",
              "    }\n",
              "\n",
              "    .dataframe thead th {\n",
              "        text-align: right;\n",
              "    }\n",
              "</style>\n",
              "<table border=\"1\" class=\"dataframe\">\n",
              "  <thead>\n",
              "    <tr style=\"text-align: right;\">\n",
              "      <th></th>\n",
              "      <th>area</th>\n",
              "      <th>price</th>\n",
              "      <th>pprice</th>\n",
              "    </tr>\n",
              "  </thead>\n",
              "  <tbody>\n",
              "    <tr>\n",
              "      <th>0</th>\n",
              "      <td>2600</td>\n",
              "      <td>550000</td>\n",
              "      <td>533664.383562</td>\n",
              "    </tr>\n",
              "    <tr>\n",
              "      <th>1</th>\n",
              "      <td>3000</td>\n",
              "      <td>565000</td>\n",
              "      <td>587979.452055</td>\n",
              "    </tr>\n",
              "    <tr>\n",
              "      <th>2</th>\n",
              "      <td>3200</td>\n",
              "      <td>610000</td>\n",
              "      <td>615136.986301</td>\n",
              "    </tr>\n",
              "    <tr>\n",
              "      <th>3</th>\n",
              "      <td>3600</td>\n",
              "      <td>680000</td>\n",
              "      <td>669452.054795</td>\n",
              "    </tr>\n",
              "    <tr>\n",
              "      <th>4</th>\n",
              "      <td>4000</td>\n",
              "      <td>725000</td>\n",
              "      <td>723767.123288</td>\n",
              "    </tr>\n",
              "  </tbody>\n",
              "</table>\n",
              "</div>"
            ],
            "text/plain": [
              "   area   price         pprice\n",
              "0  2600  550000  533664.383562\n",
              "1  3000  565000  587979.452055\n",
              "2  3200  610000  615136.986301\n",
              "3  3600  680000  669452.054795\n",
              "4  4000  725000  723767.123288"
            ]
          },
          "execution_count": 73,
          "metadata": {},
          "output_type": "execute_result"
        }
      ],
      "source": [
        "df\n"
      ]
    },
    {
      "cell_type": "code",
      "execution_count": null,
      "id": "ed3b95c5",
      "metadata": {
        "id": "ed3b95c5",
        "outputId": "ff5b435d-10d4-4bb7-dbc1-25b90963ce48"
      },
      "outputs": [
        {
          "name": "stdout",
          "output_type": "stream",
          "text": [
            "186815068.4931509\n"
          ]
        }
      ],
      "source": [
        "mse=mean_squared_error(df.price,df.pprice)\n",
        "print(mse)"
      ]
    },
    {
      "cell_type": "code",
      "execution_count": null,
      "id": "678828b2",
      "metadata": {
        "id": "678828b2",
        "outputId": "25ba2c8c-32bd-4425-bcd2-c4ccd16c4261"
      },
      "outputs": [
        {
          "name": "stdout",
          "output_type": "stream",
          "text": [
            "13668.030893042014\n"
          ]
        }
      ],
      "source": [
        "print(math.sqrt(mse))"
      ]
    },
    {
      "cell_type": "code",
      "execution_count": null,
      "id": "7bcfb779",
      "metadata": {
        "id": "7bcfb779",
        "outputId": "27d5bf0b-1fa3-4b26-a721-85072a71146f"
      },
      "outputs": [
        {
          "data": {
            "text/plain": [
              "array([[533664.38356164],\n",
              "       [587979.45205479],\n",
              "       [615136.98630137],\n",
              "       [669452.05479452],\n",
              "       [723767.12328767]])"
            ]
          },
          "execution_count": 78,
          "metadata": {},
          "output_type": "execute_result"
        }
      ],
      "source": [
        "arrp=df[['price']].to_numpy()\n",
        "arrpp=df[['pprice']].to_numpy()\n",
        "arrp\n",
        "arrpp"
      ]
    },
    {
      "cell_type": "code",
      "execution_count": null,
      "id": "45d8d644",
      "metadata": {
        "id": "45d8d644",
        "outputId": "cf7845e2-2781-4236-f70c-e56f2c829433"
      },
      "outputs": [
        {
          "name": "stdout",
          "output_type": "stream",
          "text": [
            "Mean Absolute Error[11247.57534247]\n"
          ]
        }
      ],
      "source": [
        "n=5\n",
        "sum=5\n",
        "for i in range(5):\n",
        "    sum+=abs(arrp[i]-arrpp[i])\n",
        "\n",
        "error=sum/n\n",
        "print(\"Mean Absolute Error\"+str(error))\n"
      ]
    },
    {
      "cell_type": "code",
      "execution_count": null,
      "id": "91e6f9a4",
      "metadata": {
        "id": "91e6f9a4",
        "outputId": "05b79564-2f2a-4f08-b3cd-a4e9beb9f159"
      },
      "outputs": [
        {
          "data": {
            "text/plain": [
              "<matplotlib.collections.PathCollection at 0x201be40df40>"
            ]
          },
          "execution_count": 5,
          "metadata": {},
          "output_type": "execute_result"
        },
        {
          "data": {
            "image/png": "[encoded data removed]",
            "text/plain": [
              "<Figure size 432x288 with 1 Axes>"
            ]
          },
          "metadata": {
            "needs_background": "light"
          },
          "output_type": "display_data"
        }
      ],
      "source": [
        "plt.xlabel(\"area\")\n",
        "plt.ylabel(\"price\")\n",
        "plt.scatter(df.area,df.price, color='red')"
      ]
    },
    {
      "cell_type": "code",
      "execution_count": null,
      "id": "0fa57bde",
      "metadata": {
        "id": "0fa57bde",
        "outputId": "24396a88-37d6-49c4-8991-2255e982bdf5"
      },
      "outputs": [
        {
          "data": {
            "text/plain": [
              "array([[1.000e+00, 2.600e+03, 6.760e+06],\n",
              "       [1.000e+00, 3.000e+03, 9.000e+06],\n",
              "       [1.000e+00, 3.200e+03, 1.024e+07],\n",
              "       [1.000e+00, 3.600e+03, 1.296e+07],\n",
              "       [1.000e+00, 4.000e+03, 1.600e+07]])"
            ]
          },
          "execution_count": 6,
          "metadata": {},
          "output_type": "execute_result"
        }
      ],
      "source": [
        "from sklearn.preprocessing import PolynomialFeatures\n",
        "polynorm=PolynomialFeatures(degree=2)\n",
        "x_polynorm=polynorm.fit_transform(df[['area']])\n",
        "x_polynorm"
      ]
    },
    {
      "cell_type": "code",
      "execution_count": null,
      "id": "5df81bfe",
      "metadata": {
        "id": "5df81bfe"
      },
      "outputs": [],
      "source": [
        "poly_reg=linear_model.LinearRegression()"
      ]
    },
    {
      "cell_type": "code",
      "execution_count": null,
      "id": "afe22cf3",
      "metadata": {
        "id": "afe22cf3",
        "outputId": "1129e53d-3dff-4cd1-b571-de5c2c417834"
      },
      "outputs": [
        {
          "data": {
            "text/plain": [
              "LinearRegression()"
            ]
          },
          "execution_count": 13,
          "metadata": {},
          "output_type": "execute_result"
        }
      ],
      "source": [
        "poly_reg.fit(x_polynorm,df.price)"
      ]
    },
    {
      "cell_type": "code",
      "execution_count": null,
      "id": "d30dfa0f",
      "metadata": {
        "id": "d30dfa0f",
        "outputId": "500ae715-cd3c-42b3-9b0d-cbfe3a8bdaaa"
      },
      "outputs": [
        {
          "data": {
            "text/plain": [
              "array([542667.12679942, 583340.56399133, 607692.7627687 , 664428.12068627,\n",
              "       731871.42575429])"
            ]
          },
          "execution_count": 14,
          "metadata": {},
          "output_type": "execute_result"
        }
      ],
      "source": [
        "Y_predprice=poly_reg.predict(x_polynorm)\n",
        "Y_predprice"
      ]
    },
    {
      "cell_type": "code",
      "execution_count": null,
      "id": "f1e087dd",
      "metadata": {
        "id": "f1e087dd",
        "outputId": "25a1982c-d347-4033-b936-50ee0b94f8a5"
      },
      "outputs": [
        {
          "data": {
            "text/plain": [
              "[<matplotlib.lines.Line2D at 0x201c1a5c1c0>]"
            ]
          },
          "execution_count": 15,
          "metadata": {},
          "output_type": "execute_result"
        },
        {
          "data": {
            "image/png": "[encoded data removed]",
            "text/plain": [
              "<Figure size 432x288 with 1 Axes>"
            ]
          },
          "metadata": {
            "needs_background": "light"
          },
          "output_type": "display_data"
        }
      ],
      "source": [
        "plt.xlabel(\"area\")\n",
        "plt.ylabel(\"price\")\n",
        "plt.scatter(df.area,df.price, color='red')\n",
        "plt.plot(df.area,poly_reg.predict(x_polynorm), color='blue')"
      ]
    },
    {
      "cell_type": "code",
      "execution_count": null,
      "id": "2c48c9e5",
      "metadata": {
        "id": "2c48c9e5",
        "outputId": "0e4747bb-936d-4f84-8b4d-b39530630aac"
      },
      "outputs": [
        {
          "name": "stdout",
          "output_type": "stream",
          "text": [
            "137034115.55906075\n"
          ]
        }
      ],
      "source": [
        "mse=mean_squared_error(df.price,Y_predprice)\n",
        "print(mse)"
      ]
    },
    {
      "cell_type": "code",
      "execution_count": null,
      "id": "0d9a6dba",
      "metadata": {
        "id": "0d9a6dba"
      },
      "outputs": [],
      "source": []
    }
  ],
  "metadata": {
    "kernelspec": {
      "display_name": "Python 3 (ipykernel)",
      "language": "python",
      "name": "python3"
    },
    "language_info": {
      "codemirror_mode": {
        "name": "ipython",
        "version": 3
      },
      "file_extension": ".py",
      "mimetype": "text/x-python",
      "name": "python",
      "nbconvert_exporter": "python",
      "pygments_lexer": "ipython3",
      "version": "3.9.7"
    },
    "colab": {
      "provenance": [],
      "include_colab_link": true
    }
  },
  "nbformat": 4,
  "nbformat_minor": 5
}